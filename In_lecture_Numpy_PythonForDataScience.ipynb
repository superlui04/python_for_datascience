{
  "nbformat": 4,
  "nbformat_minor": 0,
  "metadata": {
    "colab": {
      "provenance": [],
      "collapsed_sections": [
        "jjk_HAmdkHiP",
        "laiSCJO-jQhp"
      ],
      "include_colab_link": true
    },
    "kernelspec": {
      "name": "python3",
      "display_name": "Python 3"
    },
    "language_info": {
      "name": "python"
    }
  },
  "cells": [
    {
      "cell_type": "markdown",
      "metadata": {
        "id": "view-in-github",
        "colab_type": "text"
      },
      "source": [
        "<a href=\"https://colab.research.google.com/github/superlui04/python_for_datascience/blob/main/In_lecture_Numpy_PythonForDataScience.ipynb\" target=\"_parent\"><img src=\"https://colab.research.google.com/assets/colab-badge.svg\" alt=\"Open In Colab\"/></a>"
      ]
    },
    {
      "cell_type": "code",
      "execution_count": null,
      "metadata": {
        "id": "ma9gJaHdumDW"
      },
      "outputs": [],
      "source": [
        "import numpy as np"
      ]
    },
    {
      "cell_type": "markdown",
      "source": [
        "# Initializing Numpy Arrays\n"
      ],
      "metadata": {
        "id": "5vWvQD3wwMTK"
      }
    },
    {
      "cell_type": "code",
      "source": [
        "a = [1, 2, 3, 4, 5]  # normal python list\n",
        "numpy_a = np.array([1, 2, 3, 4, 5], dtype='int16') # numpy 1d array"
      ],
      "metadata": {
        "id": "5VGpPTvYwRP4"
      },
      "execution_count": null,
      "outputs": []
    },
    {
      "cell_type": "code",
      "source": [
        "# numpy 2d array\n",
        "b = np.array([\n",
        "    [9.0,8.0,7.0],\n",
        "    [6.0,5.0,4.0]\n",
        "])"
      ],
      "metadata": {
        "id": "5mlEUTR0gRQ2"
      },
      "execution_count": null,
      "outputs": []
    },
    {
      "cell_type": "code",
      "source": [
        "b"
      ],
      "metadata": {
        "colab": {
          "base_uri": "https://localhost:8080/"
        },
        "id": "hqsxuHUUDwN9",
        "outputId": "480be384-383d-4a25-af30-dfbadf8fa399"
      },
      "execution_count": null,
      "outputs": [
        {
          "output_type": "execute_result",
          "data": {
            "text/plain": [
              "array([[9., 8., 7.],\n",
              "       [6., 5., 4.]])"
            ]
          },
          "metadata": {},
          "execution_count": 6
        }
      ]
    },
    {
      "cell_type": "code",
      "source": [
        "# Get Dimension\n",
        "# a.ndim\n",
        "b.ndim"
      ],
      "metadata": {
        "colab": {
          "base_uri": "https://localhost:8080/"
        },
        "id": "TxyMfRs-garD",
        "outputId": "023da9b3-f201-4427-cb5d-afc1e2076bfb"
      },
      "execution_count": null,
      "outputs": [
        {
          "output_type": "execute_result",
          "data": {
            "text/plain": [
              "2"
            ]
          },
          "metadata": {},
          "execution_count": 7
        }
      ]
    },
    {
      "cell_type": "code",
      "source": [
        "# Get Shape\n",
        "b.shape"
      ],
      "metadata": {
        "colab": {
          "base_uri": "https://localhost:8080/"
        },
        "id": "bpnurl3YgeNc",
        "outputId": "fa1dd019-19da-4c24-fcff-8b01aa46c778"
      },
      "execution_count": null,
      "outputs": [
        {
          "output_type": "execute_result",
          "data": {
            "text/plain": [
              "(2, 3)"
            ]
          },
          "metadata": {},
          "execution_count": 8
        }
      ]
    },
    {
      "cell_type": "code",
      "source": [
        "# Get Type\n",
        "print(b.dtype)\n",
        "\n",
        "# Get Size\n",
        "print(b.nbytes)"
      ],
      "metadata": {
        "colab": {
          "base_uri": "https://localhost:8080/"
        },
        "id": "0EcdfqPCgiLv",
        "outputId": "5126ee93-96c0-433c-87a3-447864d44867"
      },
      "execution_count": null,
      "outputs": [
        {
          "output_type": "stream",
          "name": "stdout",
          "text": [
            "float64\n",
            "48\n"
          ]
        }
      ]
    },
    {
      "cell_type": "markdown",
      "source": [
        "# More types of NumPy initializations"
      ],
      "metadata": {
        "id": "1K0eLRfZgqwU"
      }
    },
    {
      "cell_type": "code",
      "source": [
        "# All 0s matrix\n",
        "np.zeros((5,6))"
      ],
      "metadata": {
        "colab": {
          "base_uri": "https://localhost:8080/"
        },
        "id": "Y3pAqy1eguxf",
        "outputId": "a7139e83-d180-4d00-8b40-86e5d8d516ae"
      },
      "execution_count": null,
      "outputs": [
        {
          "output_type": "execute_result",
          "data": {
            "text/plain": [
              "array([[0., 0., 0., 0., 0., 0.],\n",
              "       [0., 0., 0., 0., 0., 0.],\n",
              "       [0., 0., 0., 0., 0., 0.],\n",
              "       [0., 0., 0., 0., 0., 0.],\n",
              "       [0., 0., 0., 0., 0., 0.]])"
            ]
          },
          "metadata": {},
          "execution_count": 10
        }
      ]
    },
    {
      "cell_type": "code",
      "source": [
        "# All 1s matrix\n",
        "np.ones((3, 3))"
      ],
      "metadata": {
        "colab": {
          "base_uri": "https://localhost:8080/"
        },
        "id": "VCBNOVprgw2w",
        "outputId": "f425dbdb-5ce2-4749-b0bf-e7d1c8a8d98b"
      },
      "execution_count": null,
      "outputs": [
        {
          "output_type": "execute_result",
          "data": {
            "text/plain": [
              "array([[1., 1., 1.],\n",
              "       [1., 1., 1.],\n",
              "       [1., 1., 1.]])"
            ]
          },
          "metadata": {},
          "execution_count": 11
        }
      ]
    },
    {
      "cell_type": "code",
      "source": [
        "# Matrix filled with any number\n",
        "np.full((5,2), 8)"
      ],
      "metadata": {
        "colab": {
          "base_uri": "https://localhost:8080/"
        },
        "id": "RmqlrbS5gzpo",
        "outputId": "acfec7c7-44a0-47b8-b9f9-874187b2a85d"
      },
      "execution_count": null,
      "outputs": [
        {
          "output_type": "execute_result",
          "data": {
            "text/plain": [
              "array([[8, 8],\n",
              "       [8, 8],\n",
              "       [8, 8],\n",
              "       [8, 8],\n",
              "       [8, 8]])"
            ]
          },
          "metadata": {},
          "execution_count": 12
        }
      ]
    },
    {
      "cell_type": "code",
      "source": [
        "# identity matrix\n",
        "np.eye(5)"
      ],
      "metadata": {
        "colab": {
          "base_uri": "https://localhost:8080/"
        },
        "id": "ZRdxFeDNg6_z",
        "outputId": "2715f38a-0c46-479c-ecfb-6c9dcbb90a03"
      },
      "execution_count": null,
      "outputs": [
        {
          "output_type": "execute_result",
          "data": {
            "text/plain": [
              "array([[1., 0., 0., 0., 0.],\n",
              "       [0., 1., 0., 0., 0.],\n",
              "       [0., 0., 1., 0., 0.],\n",
              "       [0., 0., 0., 1., 0.],\n",
              "       [0., 0., 0., 0., 1.]])"
            ]
          },
          "metadata": {},
          "execution_count": 13
        }
      ]
    },
    {
      "cell_type": "code",
      "source": [
        "# Random decimal numbers between 0-10\n",
        "np.random.rand(4,2) * 10"
      ],
      "metadata": {
        "colab": {
          "base_uri": "https://localhost:8080/"
        },
        "id": "urhyX4m1g93Q",
        "outputId": "e4a2361f-cf7d-488e-90c4-f9595f93000a"
      },
      "execution_count": null,
      "outputs": [
        {
          "output_type": "execute_result",
          "data": {
            "text/plain": [
              "array([[9.73774922, 7.73271444],\n",
              "       [2.42125873, 1.9772723 ],\n",
              "       [7.12087869, 6.87412194],\n",
              "       [7.7948834 , 4.28468115]])"
            ]
          },
          "metadata": {},
          "execution_count": 14
        }
      ]
    },
    {
      "cell_type": "code",
      "source": [
        "# python gotcha\n",
        "a = np.array([1,2,3])\n",
        "b = a\n",
        "\n",
        "print(a)\n",
        "print(b)"
      ],
      "metadata": {
        "colab": {
          "base_uri": "https://localhost:8080/"
        },
        "id": "zNIRL8gpyxvV",
        "outputId": "076cd1dd-4542-43cf-d94e-05095d78f53e"
      },
      "execution_count": null,
      "outputs": [
        {
          "output_type": "stream",
          "name": "stdout",
          "text": [
            "[1 2 3]\n",
            "[1 2 3]\n"
          ]
        }
      ]
    },
    {
      "cell_type": "code",
      "source": [
        "b[1] = 100\n",
        "print(b)"
      ],
      "metadata": {
        "colab": {
          "base_uri": "https://localhost:8080/"
        },
        "id": "OH3lNYpPFCBy",
        "outputId": "e7d3f596-2e6e-4f1e-985f-847bfc07a8d1"
      },
      "execution_count": null,
      "outputs": [
        {
          "output_type": "stream",
          "name": "stdout",
          "text": [
            "[  1 100   3]\n"
          ]
        }
      ]
    },
    {
      "cell_type": "code",
      "source": [
        "print(a)"
      ],
      "metadata": {
        "colab": {
          "base_uri": "https://localhost:8080/"
        },
        "id": "uv7OCmy6FK-C",
        "outputId": "b41b4912-03bb-4cf3-8e35-df02241bb052"
      },
      "execution_count": null,
      "outputs": [
        {
          "output_type": "stream",
          "name": "stdout",
          "text": [
            "[  1 100   3]\n"
          ]
        }
      ]
    },
    {
      "cell_type": "code",
      "source": [
        "# Copying in numpy\n",
        "a = np.array([1,2,3])\n",
        "b = a.copy() # REMEMBER TO DO THIS. Otherwise, when b is mutated, a also changes\n",
        "\n",
        "b[1] = 100\n",
        "print(a)\n",
        "print(b)"
      ],
      "metadata": {
        "colab": {
          "base_uri": "https://localhost:8080/"
        },
        "id": "jTD8p0ZrhAdK",
        "outputId": "a4ebadd5-2cd3-42d0-b4ae-914a837ef4ae"
      },
      "execution_count": null,
      "outputs": [
        {
          "output_type": "stream",
          "name": "stdout",
          "text": [
            "[1 2 3]\n",
            "[  1 100   3]\n"
          ]
        }
      ]
    },
    {
      "cell_type": "markdown",
      "source": [
        "#Numpy Indexing and Accessing Elements"
      ],
      "metadata": {
        "id": "datKJcj9yA7Z"
      }
    },
    {
      "cell_type": "code",
      "source": [
        "python_list = [\n",
        "    ['apple', 'orange', 'banana'],\n",
        "    ['panda', 2, 100]]\n",
        "python_list[1][2]"
      ],
      "metadata": {
        "id": "P15UQMeDyIat",
        "colab": {
          "base_uri": "https://localhost:8080/"
        },
        "outputId": "8238734d-2692-4499-933c-6bf4d7a57dff"
      },
      "execution_count": null,
      "outputs": [
        {
          "output_type": "execute_result",
          "data": {
            "text/plain": [
              "100"
            ]
          },
          "metadata": {},
          "execution_count": 19
        }
      ]
    },
    {
      "cell_type": "code",
      "source": [
        "a = np.array([\n",
        "    [1,2,3,4,5,6,7],\n",
        "    [8,9,10,11,12,13,14]\n",
        "])\n",
        "a.shape"
      ],
      "metadata": {
        "id": "Ze-TaMKuyrDr",
        "colab": {
          "base_uri": "https://localhost:8080/"
        },
        "outputId": "df22e70e-5be6-4919-82ce-b86c1598cd96"
      },
      "execution_count": null,
      "outputs": [
        {
          "output_type": "execute_result",
          "data": {
            "text/plain": [
              "(2, 7)"
            ]
          },
          "metadata": {},
          "execution_count": 20
        }
      ]
    },
    {
      "cell_type": "code",
      "source": [
        "# Get a specific element [row, col]\n",
        "# With slicing - [row_start:row_end, col_start:col_end]\n",
        "# Can leave out row_start / col_start if 0\n",
        "a[0:2, :-2]\n",
        "\n",
        "# note: this is first two rows, in this case all rows"
      ],
      "metadata": {
        "id": "j1geBPD4y50D",
        "colab": {
          "base_uri": "https://localhost:8080/"
        },
        "outputId": "bc5470f6-2f2e-4e8c-99df-ed24dfb8ef84"
      },
      "execution_count": null,
      "outputs": [
        {
          "output_type": "execute_result",
          "data": {
            "text/plain": [
              "array([[ 1,  2,  3,  4,  5],\n",
              "       [ 8,  9, 10, 11, 12]])"
            ]
          },
          "metadata": {},
          "execution_count": 21
        }
      ]
    },
    {
      "cell_type": "code",
      "source": [
        "# Get a specific row\n",
        "row = a[0, :]\n",
        "print(row)\n",
        "\n",
        "# Get a specific column\n",
        "col = a[:, 4]\n",
        "print(col)"
      ],
      "metadata": {
        "colab": {
          "base_uri": "https://localhost:8080/"
        },
        "id": "PZsnBc1th1mR",
        "outputId": "6d2c9951-00da-4696-d299-37511b8549a8"
      },
      "execution_count": null,
      "outputs": [
        {
          "output_type": "stream",
          "name": "stdout",
          "text": [
            "[1 2 3 4 5 6 7]\n",
            "[ 5 12]\n"
          ]
        }
      ]
    },
    {
      "cell_type": "code",
      "source": [
        "a[:,2]"
      ],
      "metadata": {
        "colab": {
          "base_uri": "https://localhost:8080/"
        },
        "id": "FEJI-qERGyRu",
        "outputId": "7ec02ff0-b004-4837-8376-41444094887a"
      },
      "execution_count": null,
      "outputs": [
        {
          "output_type": "execute_result",
          "data": {
            "text/plain": [
              "array([ 3, 10])"
            ]
          },
          "metadata": {},
          "execution_count": 23
        }
      ]
    },
    {
      "cell_type": "code",
      "source": [
        "# Modify array\n",
        "a[:,2] = [1,2]\n",
        "print(a)"
      ],
      "metadata": {
        "colab": {
          "base_uri": "https://localhost:8080/"
        },
        "id": "AZ3Shq46h5W6",
        "outputId": "56ec9e6b-4f31-4c8f-838c-e763640d14ff"
      },
      "execution_count": null,
      "outputs": [
        {
          "output_type": "stream",
          "name": "stdout",
          "text": [
            "[[ 1  2  1  4  5  6  7]\n",
            " [ 8  9  2 11 12 13 14]]\n"
          ]
        }
      ]
    },
    {
      "cell_type": "code",
      "source": [
        "# Example of indexing into 3D array\n",
        "\n",
        "c = np.array([\n",
        "    [[1,2],[3,4]],\n",
        "    [[5,6],[7,8]]\n",
        "  ])\n",
        "print(c)\n",
        "\n",
        "# access 1st row, 1st col, 0th value\n",
        "print(c[1, 1, 0])"
      ],
      "metadata": {
        "colab": {
          "base_uri": "https://localhost:8080/"
        },
        "id": "byB71kAjiCnW",
        "outputId": "2a63745c-d07a-4158-e9cf-007131e0bc77"
      },
      "execution_count": null,
      "outputs": [
        {
          "output_type": "stream",
          "name": "stdout",
          "text": [
            "[[[1 2]\n",
            "  [3 4]]\n",
            "\n",
            " [[5 6]\n",
            "  [7 8]]]\n",
            "7\n"
          ]
        }
      ]
    },
    {
      "cell_type": "markdown",
      "source": [
        "# Numpy Shape-shifting"
      ],
      "metadata": {
        "id": "ajUZe-hKjthE"
      }
    },
    {
      "cell_type": "code",
      "source": [
        "# Concatenating arrays\n",
        "arr1 = np.array([1,2,3,4])\n",
        "arr2 = np.array([5,6,7,8])\n",
        "arr1"
      ],
      "metadata": {
        "colab": {
          "base_uri": "https://localhost:8080/"
        },
        "id": "kOnSCYsrj1TI",
        "outputId": "a4c34cb2-e6dd-4b34-c8b1-e953fc33fd7a"
      },
      "execution_count": null,
      "outputs": [
        {
          "output_type": "execute_result",
          "data": {
            "text/plain": [
              "array([1, 2, 3, 4])"
            ]
          },
          "metadata": {},
          "execution_count": 26
        }
      ]
    },
    {
      "cell_type": "code",
      "source": [
        "arr2"
      ],
      "metadata": {
        "colab": {
          "base_uri": "https://localhost:8080/"
        },
        "id": "uw4vrDYWHXqC",
        "outputId": "f31e84f2-7e7f-443b-9a17-46376af1e471"
      },
      "execution_count": null,
      "outputs": [
        {
          "output_type": "execute_result",
          "data": {
            "text/plain": [
              "array([5, 6, 7, 8])"
            ]
          },
          "metadata": {},
          "execution_count": 27
        }
      ]
    },
    {
      "cell_type": "code",
      "source": [
        "np.concatenate((arr1, arr2))"
      ],
      "metadata": {
        "colab": {
          "base_uri": "https://localhost:8080/"
        },
        "id": "-FFRK7EZHVYy",
        "outputId": "6fd02f91-9381-4622-e7d2-1b65a36bb3f2"
      },
      "execution_count": null,
      "outputs": [
        {
          "output_type": "execute_result",
          "data": {
            "text/plain": [
              "array([1, 2, 3, 4, 5, 6, 7, 8])"
            ]
          },
          "metadata": {},
          "execution_count": 29
        }
      ]
    },
    {
      "cell_type": "code",
      "source": [
        "# Vertically stacking vectors\n",
        "v1 = np.array([1,2,3,4])\n",
        "v2 = np.array([5,6,7,8])\n",
        "\n",
        "np.vstack([v1,v2])"
      ],
      "metadata": {
        "colab": {
          "base_uri": "https://localhost:8080/"
        },
        "id": "CPXY4BByj4zc",
        "outputId": "6290e569-96d4-4dfe-983b-93ef818de883"
      },
      "execution_count": null,
      "outputs": [
        {
          "output_type": "execute_result",
          "data": {
            "text/plain": [
              "array([[1, 2, 3, 4],\n",
              "       [5, 6, 7, 8]])"
            ]
          },
          "metadata": {},
          "execution_count": 30
        }
      ]
    },
    {
      "cell_type": "code",
      "source": [
        "h1 = np.ones((4,5))\n",
        "h1"
      ],
      "metadata": {
        "colab": {
          "base_uri": "https://localhost:8080/"
        },
        "id": "87Z8an-_z_E_",
        "outputId": "c6fe1aa5-3769-45b0-b3e9-e80d55c1c4b8"
      },
      "execution_count": null,
      "outputs": [
        {
          "output_type": "execute_result",
          "data": {
            "text/plain": [
              "array([[1., 1., 1., 1., 1.],\n",
              "       [1., 1., 1., 1., 1.],\n",
              "       [1., 1., 1., 1., 1.],\n",
              "       [1., 1., 1., 1., 1.]])"
            ]
          },
          "metadata": {},
          "execution_count": 31
        }
      ]
    },
    {
      "cell_type": "code",
      "source": [
        "h2 = np.full((4,2), 2)\n",
        "h2"
      ],
      "metadata": {
        "colab": {
          "base_uri": "https://localhost:8080/"
        },
        "id": "MIHVXPcZ0CQ_",
        "outputId": "3af6c14a-1c61-4885-80bb-2ca2dbd68fe6"
      },
      "execution_count": null,
      "outputs": [
        {
          "output_type": "execute_result",
          "data": {
            "text/plain": [
              "array([[2, 2],\n",
              "       [2, 2],\n",
              "       [2, 2],\n",
              "       [2, 2]])"
            ]
          },
          "metadata": {},
          "execution_count": 33
        }
      ]
    },
    {
      "cell_type": "code",
      "source": [
        "# Horizontal  stack\n",
        "np.hstack((h1,h2))"
      ],
      "metadata": {
        "colab": {
          "base_uri": "https://localhost:8080/"
        },
        "id": "1WmrYIZNj7Lj",
        "outputId": "ef9e5e27-b116-4d2a-fddb-041e01374093"
      },
      "execution_count": null,
      "outputs": [
        {
          "output_type": "execute_result",
          "data": {
            "text/plain": [
              "array([[1., 1., 1., 1., 1., 2., 2.],\n",
              "       [1., 1., 1., 1., 1., 2., 2.],\n",
              "       [1., 1., 1., 1., 1., 2., 2.],\n",
              "       [1., 1., 1., 1., 1., 2., 2.]])"
            ]
          },
          "metadata": {},
          "execution_count": 34
        }
      ]
    },
    {
      "cell_type": "code",
      "source": [
        "# Reshape array\n",
        "a = np.full((4, 8), 3)\n",
        "print(a)"
      ],
      "metadata": {
        "colab": {
          "base_uri": "https://localhost:8080/"
        },
        "id": "lVUCV-3tH0t3",
        "outputId": "71b2a036-83b0-48ca-b180-30882734d8b2"
      },
      "execution_count": null,
      "outputs": [
        {
          "output_type": "stream",
          "name": "stdout",
          "text": [
            "[[3 3 3 3 3 3 3 3]\n",
            " [3 3 3 3 3 3 3 3]\n",
            " [3 3 3 3 3 3 3 3]\n",
            " [3 3 3 3 3 3 3 3]]\n"
          ]
        }
      ]
    },
    {
      "cell_type": "code",
      "source": [
        "a_flat = a.flatten()\n",
        "print(a_flat)"
      ],
      "metadata": {
        "colab": {
          "base_uri": "https://localhost:8080/"
        },
        "id": "yHzFVNCOH3Uw",
        "outputId": "ac41d088-e66f-4a6a-f7e2-5be8a784d195"
      },
      "execution_count": null,
      "outputs": [
        {
          "output_type": "stream",
          "name": "stdout",
          "text": [
            "[3 3 3 3 3 3 3 3 3 3 3 3 3 3 3 3 3 3 3 3 3 3 3 3 3 3 3 3 3 3 3 3]\n"
          ]
        }
      ]
    },
    {
      "cell_type": "code",
      "source": [
        "# Reshap a_flat to a rectangle matrix\n",
        "b = np.reshape(a_flat, (2, 16))\n",
        "print(b)"
      ],
      "metadata": {
        "colab": {
          "base_uri": "https://localhost:8080/"
        },
        "id": "yRdR9gIOlFL9",
        "outputId": "4d4f7828-a7de-460e-c7e5-31feb79e8eb8"
      },
      "execution_count": null,
      "outputs": [
        {
          "output_type": "stream",
          "name": "stdout",
          "text": [
            "[[3 3 3 3 3 3 3 3 3 3 3 3 3 3 3 3]\n",
            " [3 3 3 3 3 3 3 3 3 3 3 3 3 3 3 3]]\n"
          ]
        }
      ]
    },
    {
      "cell_type": "markdown",
      "source": [
        "# Numpy Math & Broadcasting"
      ],
      "metadata": {
        "id": "jjk_HAmdkHiP"
      }
    },
    {
      "cell_type": "code",
      "source": [
        "a = np.array([1,2,3,4])\n",
        "print(a)"
      ],
      "metadata": {
        "colab": {
          "base_uri": "https://localhost:8080/"
        },
        "id": "H5ZUgIfpkLfP",
        "outputId": "a2177d22-e397-40ee-9451-4207b4594f61"
      },
      "execution_count": null,
      "outputs": [
        {
          "output_type": "stream",
          "name": "stdout",
          "text": [
            "[1 2 3 4]\n"
          ]
        }
      ]
    },
    {
      "cell_type": "code",
      "source": [
        "# Add value to all elements at once\n",
        "print(a + 7)"
      ],
      "metadata": {
        "colab": {
          "base_uri": "https://localhost:8080/"
        },
        "id": "42AsHqojkQAE",
        "outputId": "f7fd1591-291e-49e5-a4c9-c08a8b311236"
      },
      "execution_count": null,
      "outputs": [
        {
          "output_type": "stream",
          "name": "stdout",
          "text": [
            "[ 8  9 10 11]\n"
          ]
        }
      ]
    },
    {
      "cell_type": "code",
      "source": [
        "# Multiply all elements in a by value\n",
        "print(a * 3)"
      ],
      "metadata": {
        "colab": {
          "base_uri": "https://localhost:8080/"
        },
        "id": "wpmt_ZDzkV3m",
        "outputId": "7987226a-75ea-4a30-90ae-d495adbeffcf"
      },
      "execution_count": null,
      "outputs": [
        {
          "output_type": "stream",
          "name": "stdout",
          "text": [
            "[ 3  6  9 12]\n"
          ]
        }
      ]
    },
    {
      "cell_type": "code",
      "source": [
        "# Divide all elements in a by value\n",
        "print(a / 2)"
      ],
      "metadata": {
        "colab": {
          "base_uri": "https://localhost:8080/"
        },
        "id": "7H0Q2mE4ka7p",
        "outputId": "31d5c13a-0c17-4983-a0af-d996529a1691"
      },
      "execution_count": null,
      "outputs": [
        {
          "output_type": "stream",
          "name": "stdout",
          "text": [
            "[0.5 1.  1.5 2. ]\n"
          ]
        }
      ]
    },
    {
      "cell_type": "code",
      "source": [
        "# Add 2 arrays together\n",
        "b = np.array([4, 5, 6, 7]) # Needs to be the same shape!\n",
        "\n",
        "print(a + b)"
      ],
      "metadata": {
        "colab": {
          "base_uri": "https://localhost:8080/"
        },
        "id": "FDquIoiWkgzs",
        "outputId": "ed6aba29-57bf-4cff-d954-db82c0db5d86"
      },
      "execution_count": null,
      "outputs": [
        {
          "output_type": "stream",
          "name": "stdout",
          "text": [
            "[ 5  7  9 11]\n"
          ]
        }
      ]
    },
    {
      "cell_type": "code",
      "source": [
        "# Multiply 2 arrays together\n",
        "print(a * b) # Needs to be the same shape!"
      ],
      "metadata": {
        "colab": {
          "base_uri": "https://localhost:8080/"
        },
        "id": "piIvI4Mdkqbd",
        "outputId": "44084e4b-ea04-4f60-b3f4-d0fbae0d9fc0"
      },
      "execution_count": null,
      "outputs": [
        {
          "output_type": "stream",
          "name": "stdout",
          "text": [
            "[ 4 10 18 28]\n"
          ]
        }
      ]
    },
    {
      "cell_type": "code",
      "source": [
        "# Take the sin / cos of arrays\n",
        "# For a lot more (https://docs.scipy.org/doc/numpy/reference/routines.math.html)\n",
        "np.sin(a * b)"
      ],
      "metadata": {
        "colab": {
          "base_uri": "https://localhost:8080/"
        },
        "id": "bbxtJ9zKk2aw",
        "outputId": "f48e01b8-943d-4144-dd89-603780f1fcaf"
      },
      "execution_count": null,
      "outputs": [
        {
          "output_type": "execute_result",
          "data": {
            "text/plain": [
              "array([-0.7568025 , -0.54402111, -0.75098725,  0.27090579])"
            ]
          },
          "metadata": {},
          "execution_count": 45
        }
      ]
    },
    {
      "cell_type": "code",
      "source": [
        "# Perform linear algebra operations\n",
        "\n",
        "# shape (2, 2)\n",
        "a = np.array([\n",
        "    [1, 2],\n",
        "    [2, 3]\n",
        "])\n",
        "\n",
        "# shape (3, 2)\n",
        "b = np.array([\n",
        "    [1, 2],\n",
        "    [2, 3],\n",
        "    [3, 3]\n",
        "])\n",
        "\n",
        "print(a)\n",
        "print(b)"
      ],
      "metadata": {
        "colab": {
          "base_uri": "https://localhost:8080/"
        },
        "id": "4lPe33sVk9Ob",
        "outputId": "f16a798e-fd24-41b3-a699-aad4319e6e62"
      },
      "execution_count": null,
      "outputs": [
        {
          "output_type": "stream",
          "name": "stdout",
          "text": [
            "[[1 2]\n",
            " [2 3]]\n",
            "[[1 2]\n",
            " [2 3]\n",
            " [3 3]]\n"
          ]
        }
      ]
    },
    {
      "cell_type": "code",
      "source": [
        "# Error!\n",
        "c = np.matmul(a, b)"
      ],
      "metadata": {
        "colab": {
          "base_uri": "https://localhost:8080/",
          "height": 205
        },
        "id": "GqN3mqCE0UnE",
        "outputId": "91f3894d-113a-4af2-d1d0-3e1350139ff8"
      },
      "execution_count": null,
      "outputs": [
        {
          "output_type": "error",
          "ename": "ValueError",
          "evalue": "ignored",
          "traceback": [
            "\u001b[0;31m---------------------------------------------------------------------------\u001b[0m",
            "\u001b[0;31mValueError\u001b[0m                                Traceback (most recent call last)",
            "\u001b[0;32m<ipython-input-50-b53ac683f7a8>\u001b[0m in \u001b[0;36m<module>\u001b[0;34m\u001b[0m\n\u001b[1;32m      1\u001b[0m \u001b[0;31m# Error!\u001b[0m\u001b[0;34m\u001b[0m\u001b[0;34m\u001b[0m\u001b[0m\n\u001b[0;32m----> 2\u001b[0;31m \u001b[0mc\u001b[0m \u001b[0;34m=\u001b[0m \u001b[0mnp\u001b[0m\u001b[0;34m.\u001b[0m\u001b[0mmatmul\u001b[0m\u001b[0;34m(\u001b[0m\u001b[0ma\u001b[0m\u001b[0;34m,\u001b[0m \u001b[0mb\u001b[0m\u001b[0;34m)\u001b[0m\u001b[0;34m\u001b[0m\u001b[0;34m\u001b[0m\u001b[0m\n\u001b[0m",
            "\u001b[0;31mValueError\u001b[0m: matmul: Input operand 1 has a mismatch in its core dimension 0, with gufunc signature (n?,k),(k,m?)->(n?,m?) (size 3 is different from 2)"
          ]
        }
      ]
    },
    {
      "cell_type": "code",
      "source": [
        "b.transpose()"
      ],
      "metadata": {
        "colab": {
          "base_uri": "https://localhost:8080/"
        },
        "id": "PPiD_DG2Jj8u",
        "outputId": "80a14027-f3c4-4552-f6c3-90ae1aa405f1"
      },
      "execution_count": null,
      "outputs": [
        {
          "output_type": "execute_result",
          "data": {
            "text/plain": [
              "array([[1, 2, 3],\n",
              "       [2, 3, 3]])"
            ]
          },
          "metadata": {},
          "execution_count": 51
        }
      ]
    },
    {
      "cell_type": "code",
      "source": [
        "c = np.matmul(a, b.transpose()) # (2, 2) x (2, 3) => (2, 3)\n",
        "print(c)"
      ],
      "metadata": {
        "colab": {
          "base_uri": "https://localhost:8080/"
        },
        "id": "ghnZjt4IlsnW",
        "outputId": "1b241a41-93c5-431b-9426-1e830a33f280"
      },
      "execution_count": null,
      "outputs": [
        {
          "output_type": "stream",
          "name": "stdout",
          "text": [
            "[[ 5  8  9]\n",
            " [ 8 13 15]]\n"
          ]
        }
      ]
    },
    {
      "cell_type": "markdown",
      "source": [
        "# Load data from file into Numpy"
      ],
      "metadata": {
        "id": "laiSCJO-jQhp"
      }
    },
    {
      "cell_type": "code",
      "source": [
        "filedata = np.genfromtxt('./sample_data/california_housing_train.csv', delimiter=',', skip_header=1)\n",
        "\n",
        "print(filedata.shape)"
      ],
      "metadata": {
        "colab": {
          "base_uri": "https://localhost:8080/"
        },
        "id": "BASBHqSxjEZF",
        "outputId": "baa1034d-cc49-4e27-e343-bd9879ff1b5e"
      },
      "execution_count": null,
      "outputs": [
        {
          "output_type": "stream",
          "name": "stdout",
          "text": [
            "(17000, 9)\n"
          ]
        }
      ]
    },
    {
      "cell_type": "code",
      "source": [
        "filedata[:3]"
      ],
      "metadata": {
        "colab": {
          "base_uri": "https://localhost:8080/"
        },
        "id": "KVvIvtqDKRQb",
        "outputId": "6fadb991-1eba-40fd-ca41-a7ddc7a82d75"
      },
      "execution_count": null,
      "outputs": [
        {
          "output_type": "execute_result",
          "data": {
            "text/plain": [
              "array([[-1.1431e+02,  3.4190e+01,  1.5000e+01,  5.6120e+03,  1.2830e+03,\n",
              "         1.0150e+03,  4.7200e+02,  1.4936e+00,  6.6900e+04],\n",
              "       [-1.1447e+02,  3.4400e+01,  1.9000e+01,  7.6500e+03,  1.9010e+03,\n",
              "         1.1290e+03,  4.6300e+02,  1.8200e+00,  8.0100e+04],\n",
              "       [-1.1456e+02,  3.3690e+01,  1.7000e+01,  7.2000e+02,  1.7400e+02,\n",
              "         3.3300e+02,  1.1700e+02,  1.6509e+00,  8.5700e+04]])"
            ]
          },
          "metadata": {},
          "execution_count": 55
        }
      ]
    },
    {
      "cell_type": "code",
      "source": [
        "total_rooms = filedata[:, 3]\n",
        "total_rooms.shape"
      ],
      "metadata": {
        "colab": {
          "base_uri": "https://localhost:8080/"
        },
        "id": "ohbxxpuSjYMx",
        "outputId": "fddb2d72-5524-4d30-f516-d95cdd1b50e0"
      },
      "execution_count": null,
      "outputs": [
        {
          "output_type": "execute_result",
          "data": {
            "text/plain": [
              "(17000,)"
            ]
          },
          "metadata": {},
          "execution_count": 54
        }
      ]
    },
    {
      "cell_type": "code",
      "source": [
        "total_rooms[:3]"
      ],
      "metadata": {
        "colab": {
          "base_uri": "https://localhost:8080/"
        },
        "id": "R0IVxDMjKP-n",
        "outputId": "e081e785-31f1-482d-b21b-b8b2846ab092"
      },
      "execution_count": null,
      "outputs": [
        {
          "output_type": "execute_result",
          "data": {
            "text/plain": [
              "array([5612., 7650.,  720.])"
            ]
          },
          "metadata": {},
          "execution_count": 56
        }
      ]
    },
    {
      "cell_type": "code",
      "source": [
        "print(min(total_rooms))\n",
        "print(max(total_rooms))"
      ],
      "metadata": {
        "colab": {
          "base_uri": "https://localhost:8080/"
        },
        "id": "Mvqyf8BJjiXR",
        "outputId": "1687c13f-8522-4a86-8b30-8350f8d55b12"
      },
      "execution_count": null,
      "outputs": [
        {
          "output_type": "stream",
          "name": "stdout",
          "text": [
            "2.0\n",
            "37937.0\n"
          ]
        }
      ]
    },
    {
      "cell_type": "code",
      "source": [
        "num_persons_living = np.full((17000, 1), 4)\n",
        "num_persons_living"
      ],
      "metadata": {
        "colab": {
          "base_uri": "https://localhost:8080/"
        },
        "id": "JMiNhWYk0csC",
        "outputId": "e7999834-976f-4a87-8b49-becd98c2069a"
      },
      "execution_count": null,
      "outputs": [
        {
          "output_type": "execute_result",
          "data": {
            "text/plain": [
              "array([[4],\n",
              "       [4],\n",
              "       [4],\n",
              "       ...,\n",
              "       [4],\n",
              "       [4],\n",
              "       [4]])"
            ]
          },
          "metadata": {},
          "execution_count": 58
        }
      ]
    },
    {
      "cell_type": "code",
      "source": [
        "# concatenate a new column to existing data\n",
        "num_persons_living = np.full((17000, 1), 4)\n",
        "\n",
        "filedata = np.hstack((filedata, num_persons_living))\n",
        "print(filedata.shape)"
      ],
      "metadata": {
        "colab": {
          "base_uri": "https://localhost:8080/"
        },
        "id": "P6xESED2jn2s",
        "outputId": "a3faca3b-2aef-4d73-d3ad-ff40f476bf82"
      },
      "execution_count": null,
      "outputs": [
        {
          "output_type": "stream",
          "name": "stdout",
          "text": [
            "(17000, 10)\n"
          ]
        }
      ]
    },
    {
      "cell_type": "code",
      "source": [],
      "metadata": {
        "id": "KHDoaAYNmETY"
      },
      "execution_count": null,
      "outputs": []
    }
  ]
}